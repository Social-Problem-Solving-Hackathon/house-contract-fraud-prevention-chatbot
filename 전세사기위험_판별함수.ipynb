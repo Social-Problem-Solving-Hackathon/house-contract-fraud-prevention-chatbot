{
  "nbformat": 4,
  "nbformat_minor": 0,
  "metadata": {
    "colab": {
      "provenance": []
    },
    "kernelspec": {
      "name": "python3",
      "display_name": "Python 3"
    },
    "language_info": {
      "name": "python"
    },
    "accelerator": "TPU"
  },
  "cells": [
    {
      "cell_type": "markdown",
      "source": [
        "# 전처리"
      ],
      "metadata": {
        "id": "KKI8sl-GvnVc"
      }
    },
    {
      "cell_type": "markdown",
      "source": [
        "## PDF 파싱"
      ],
      "metadata": {
        "id": "4u002R_bIOeb"
      }
    },
    {
      "cell_type": "code",
      "source": [
        "!pip install PyPDF2"
      ],
      "metadata": {
        "colab": {
          "base_uri": "https://localhost:8080/"
        },
        "id": "cj3f8dtOISaH",
        "outputId": "5a5ffbdd-db66-4280-8ca0-e565872079d0"
      },
      "execution_count": 1,
      "outputs": [
        {
          "output_type": "stream",
          "name": "stdout",
          "text": [
            "Collecting PyPDF2\n",
            "  Downloading pypdf2-3.0.1-py3-none-any.whl (232 kB)\n",
            "\u001b[2K     \u001b[90m━━━━━━━━━━━━━━━━━━━━━━━━━━━━━━━━━━━━━━━━\u001b[0m \u001b[32m232.6/232.6 kB\u001b[0m \u001b[31m2.3 MB/s\u001b[0m eta \u001b[36m0:00:00\u001b[0m\n",
            "\u001b[?25hInstalling collected packages: PyPDF2\n",
            "Successfully installed PyPDF2-3.0.1\n"
          ]
        }
      ]
    },
    {
      "cell_type": "code",
      "source": [
        "import PyPDF2\n",
        "from PyPDF2 import PdfReader\n",
        "\n",
        "import pandas as pd\n",
        "import re"
      ],
      "metadata": {
        "id": "tuobR2jiIS-Q"
      },
      "execution_count": 2,
      "outputs": []
    },
    {
      "cell_type": "code",
      "source": [
        "import PyPDF2\n",
        "\n",
        "def extract_text(pdf_path):\n",
        "    text = \"\"\n",
        "    with open(pdf_path, 'rb') as f:\n",
        "        reader = PyPDF2.PdfReader(f)\n",
        "        num_pages = len(reader.pages)\n",
        "        for page_num in range(num_pages):\n",
        "            page = reader.pages[page_num]\n",
        "            text += page.extract_text()\n",
        "    return text\n",
        "\n",
        "# 검토하려는 서류(PDF파일)의 파일 경로\n",
        "pdf_path = \"/content/등기부등본(샘플).pdf\"\n",
        "\n",
        "# PDF에서 텍스트 추출\n",
        "pdf_text = extract_text(pdf_path)\n",
        "print(pdf_text)\n"
      ],
      "metadata": {
        "colab": {
          "base_uri": "https://localhost:8080/"
        },
        "id": "tszuEFwyIVy9",
        "outputId": "a9544dcd-52b3-4e21-8c42-1bc998d10aee"
      },
      "execution_count": 4,
      "outputs": [
        {
          "output_type": "stream",
          "name": "stdout",
          "text": [
            " \n",
            "등기사항전부증명서(말소사항 포함)\n",
            " \n",
            "- 집합건물 -\n",
            " \n",
            "[\n",
            "집\n",
            "합\n",
            "건\n",
            "물\n",
            "]\n",
            " \n",
            "인\n",
            "천\n",
            "광\n",
            "역\n",
            "시\n",
            " \n",
            "미\n",
            "추\n",
            "홀\n",
            "구\n",
            " \n",
            "주\n",
            "안\n",
            "동\n",
            " \n",
            "재\n",
            "정\n",
            "비\n",
            "촉\n",
            "진\n",
            "지\n",
            "구\n",
            "내\n",
            "도\n",
            "시\n",
            "개\n",
            "발\n",
            "1\n",
            "구\n",
            "역\n",
            " \n",
            "포\n",
            "레\n",
            "스\n",
            "트\n",
            " \n",
            "미\n",
            "트\n",
            "추\n",
            "홀\n",
            " \n",
            " \n",
            "2\n",
            "201\n",
            "동\n",
            " \n",
            "제\n",
            "3\n",
            "0\n",
            "층\n",
            " \n",
            "제\n",
            "1001\n",
            "호\n",
            " \n",
            "고유번호 1201-2022-053795\n",
            "열 람 용\n",
            "열람일시 : 2024년02월17일 12시17분06초\n",
            "1/3\n",
            "【  표  제  부  】\n",
            "( 1동의 건물의 표시 )\n",
            "표시번호\n",
            "접  수\n",
            "소재지번,건물명칭 및 번호\n",
            "건 물 내 역\n",
            "등\n",
            "기\n",
            "원\n",
            "인\n",
            " \n",
            "s\n",
            "s\n",
            "s\n",
            "및\n",
            " \n",
            "기\n",
            "타\n",
            "사\n",
            "항\n",
            "1\n",
            "2022년10월13일\n",
            "인천광역시 미추홀구 주안동\n",
            "철골철근콘크리트구조\n",
            "재정비촉진지구내도시개발1\n",
            "(철근)콘크리트지붕\n",
            "구역\n",
            "13층\n",
            "포\n",
            "레\n",
            " \n",
            "미\n",
            "추\n",
            "홀\n",
            " \n",
            "2\n",
            "2\n",
            "2\n",
            "2\n",
            "01\n",
            "동\n",
            "판\n",
            "매\n",
            ",\n",
            "근\n",
            "생\n",
            ",\n",
            "영\n",
            "화\n",
            "관\n",
            ",\n",
            "의\n",
            "료\n",
            "시\n",
            "설\n",
            "[도로명주소]\n",
            "1층 9,325.3511㎡\n",
            "인천광역시 미추홀구 경인로\n",
            "2층 11,334.0487㎡\n",
            "372\n",
            "3층 10,114.2658㎡\n",
            "4층 10,114.3851㎡\n",
            "5층 9,701.8935㎡\n",
            "6층 1,544.0889㎡\n",
            "7층 1,921.3868㎡\n",
            "8층 1,792.631㎡\n",
            "9층 1,792.631㎡\n",
            "10층 1,921.3867㎡\n",
            "11층 1,761.7747㎡\n",
            "12층 1,842.3375㎡\n",
            "13층 1,841.7114㎡\n",
            "지1층 13,020.5406㎡\n",
            "지2층 13,366.3975㎡\n",
            "지3층 1,551.7115㎡\n",
            "지4층 534.844㎡\n",
            "지5층 427.8422㎡\n",
            "지6층 197.7652㎡\n",
            "지7층 252.3142㎡\n",
            "지8층 252.3142㎡\n",
            "【  표  제  부  】\n",
            "( 전유부분의 건물의 표시 )\n",
            "표시번호\n",
            "접  수\n",
            "건 물 번 호\n",
            "건 물 내 역\n",
            "등기원인 및 기타사항\n",
            "1\n",
            "2022년10월13일\n",
            "제1층 제1001호\n",
            "철근콘크리트구조\n",
            "106.3664㎡\n",
            "[\n",
            "집\n",
            "합\n",
            "건\n",
            "물\n",
            "]\n",
            " \n",
            "인\n",
            "천\n",
            "광\n",
            "역\n",
            "시\n",
            " \n",
            "미\n",
            "추\n",
            "홀\n",
            "구\n",
            " \n",
            "주\n",
            "안\n",
            "동\n",
            " \n",
            "재\n",
            "정\n",
            "비\n",
            "촉\n",
            "진\n",
            "지\n",
            "구\n",
            "내\n",
            "도\n",
            "시\n",
            "개\n",
            "발\n",
            "1\n",
            "구\n",
            "역\n",
            " \n",
            "포\n",
            "레\n",
            "스\n",
            "트\n",
            " \n",
            "미\n",
            "추\n",
            "홀\n",
            " \n",
            "201\n",
            "동\n",
            " \n",
            "제\n",
            "9\n",
            "층\n",
            " \n",
            "제\n",
            "9\n",
            "001\n",
            "호\n",
            "열 람 용\n",
            "열람일시 : 2024년02월17일 12시17분06초\n",
            "2/3\n",
            "【  갑      구  】\n",
            "( 소유권에 관한 사항 )\n",
            "순위번호\n",
            "등 기 목 적\n",
            "접  수\n",
            "등 기 원 인\n",
            "권리자 및 기타사항\n",
            "1\n",
            "소유권보존\n",
            "2022년10월13일\n",
            "소유자  우리자산신탁주식회사  110111-2003236\n",
            "제342337호\n",
            "서울특별시 강남구 테헤란로 301,\n",
            "13층(역삼동)\n",
            "신탁\n",
            "신탁원부  제2022-41153호\n",
            "2\n",
            "소유권이전\n",
            "2022년10월25일\n",
            "2021년10월15일\n",
            "소유자  최용주  610611-*******\n",
            "제354619호\n",
            "매매\n",
            "인\n",
            "천\n",
            "광\n",
            "역\n",
            "시\n",
            " \n",
            "연\n",
            "구\n",
            " \n",
            "센\n",
            "트\n",
            "럴\n",
            "로\n",
            " \n",
            "194\n",
            ",\n",
            " \n",
            "202\n",
            "동\n",
            "2204\n",
            "호\n",
            " \n",
            "(\n",
            "송\n",
            "도\n",
            "동\n",
            ",\n",
            "더\n",
            "샵\n",
            " \n",
            "센\n",
            "트\n",
            "럴\n",
            "파\n",
            "크\n",
            "2\n",
            ")\n",
            "거래가액 금2,603,426,100원\n",
            "1번신탁등기말소\n",
            "신탁재산의\n",
            "처분\n",
            "【  을      구  】\n",
            "( 소유권 이외의 권리에 관한 사항 )\n",
            "순위번호\n",
            "등 기 목 적\n",
            "접  수\n",
            "등 기 원 인\n",
            "권리자 및 기타사항\n",
            "1\n",
            "근저당권설정\n",
            "2022년10월25일\n",
            "2022년10월25일\n",
            "채권최고액  금4,800,000,000원\n",
            "제354622호\n",
            "설정계약\n",
            "채\n",
            "무\n",
            "자\n",
            "  \n",
            "최\n",
            "인천광역시 연수구 센트럴로 194, 202동\n",
            "2204호 (송도동,더샵 센트럴파크2)\n",
            "근저당권자  중소기업은행  110135-0000903\n",
            "서울특별시 중구 을지로 79(을지로2가)\n",
            "( 남동공단비전지점 )\n",
            "공동담보  건물 인천광역시 미추홀구 주안동\n",
            "재정비촉진지구내도시개발1구역\n",
            "포레나 미추홀 201동 제1층 제1002호\n",
            "건물 인천광역시 미추홀구 주안동\n",
            "재정비촉진지구내도시개발1구역\n",
            "포레나 미추홀 201동 제1층 제1003호\n",
            "건물 인천광역시 연수구 송도동 23-4\n",
            "더샵센트럴파크2 제202동 제22층\n",
            "제2204호\n",
            "2\n",
            "임차권설정\n",
            "2023년8월7일\n",
            "2023년5월17일\n",
            "임차보증금  없음\n",
            "제283381호\n",
            "설정계약\n",
            "차  임  순매출의 11퍼센트(부가가치세 별도)\n",
            "차임지급시기  매월 15일\n",
            "범  위  건물의전부\n",
            "존속기간  2023년 8월 30일부터 2030년 8월\n",
            "[\n",
            "집\n",
            "합\n",
            "건\n",
            "물\n",
            "]\n",
            " \n",
            "인\n",
            "천\n",
            "광\n",
            "역\n",
            "시\n",
            " \n",
            "미\n",
            "추\n",
            "홀\n",
            "구\n",
            " \n",
            "주\n",
            "안\n",
            "동\n",
            " \n",
            "재\n",
            "정\n",
            "비\n",
            "촉\n",
            "진\n",
            "지\n",
            "구\n",
            "내\n",
            "도\n",
            "시\n",
            "개\n",
            "발\n",
            "1\n",
            "구\n",
            "역\n",
            " \n",
            "포\n",
            "스\n",
            "트\n",
            " \n",
            "미\n",
            "레\n",
            "추\n",
            "홀\n",
            " \n",
            "201\n",
            "동\n",
            " \n",
            "제\n",
            "1\n",
            "층\n",
            " \n",
            "제\n",
            "1001\n",
            "호\n",
            "열 람 용\n",
            "열람일시 : 2024년02월17일 12시17분06초\n",
            "3/3\n",
            "순위번호 \n",
            "등 기 목 적 \n",
            "접  수 \n",
            "등 기 원 인 \n",
            "권리자 및 기타사항\n",
            "29일까지\n",
            "임차권자  주식회사에스씨케이컴퍼니\n",
            "110111-1461667\n",
            "서울특별시 중구 퇴계로 100, 10층\n",
            "(회현동2가)\n",
            " --  이   하   여   백  --\n",
            "관할등기소  인천지방법원 등기국\n",
            "* 본 등기사항증명서는 열람용이므로 출력하신 등기사항증명서는 법적인 효력이 없습니다.\n",
            "* 실선으로 그어진 부분은 말소사항을 표시함. \n",
            "* 기록사항 없는 갑구, 을구는‘기록사항 없음’으로 표시함.\n",
            "* 증명서는 컬러 또는 흑백으로 출력 가능함.\n"
          ]
        }
      ]
    },
    {
      "cell_type": "markdown",
      "source": [
        "## 텍스트 전처리"
      ],
      "metadata": {
        "id": "8l_XuyGdG2Aj"
      }
    },
    {
      "cell_type": "code",
      "source": [
        "import re\n",
        "#특수기호 및 줄바꿈 제거\n",
        "def remove_stopwords(input_string):\n",
        "    stopwords = [\"*\", \"'\", \"#\", \"\\n\", \"[\", \"]\", '\"', \"&\", \"/\", \"%\", \"$\", \"&\", \"~\", \"(\", \")\", \"@\", \" \",\n",
        "                 \"↑\", \"\\t\", \"<\", \">\", \"-\", \"△\", \"▽\", \"+\", \"=\", \"‘\", \"’\", \"—\", \"£\", \":\", \";\", \"“\", \"”\", \"|\", \"【\", \"】\"]\n",
        "\n",
        "    for stopword in stopwords:\n",
        "        input_string = input_string.replace(stopword, \"\")\n",
        "\n",
        "    return input_string\n",
        "\n",
        "text = remove_stopwords(pdf_text)\n"
      ],
      "metadata": {
        "id": "8BAzYwOOF8nS"
      },
      "execution_count": null,
      "outputs": []
    },
    {
      "cell_type": "code",
      "source": [
        "print(text)"
      ],
      "metadata": {
        "colab": {
          "base_uri": "https://localhost:8080/"
        },
        "id": "oVYuHdsTHELG",
        "outputId": "7dab567f-ee63-4667-ca74-90c696a29ba4"
      },
      "execution_count": null,
      "outputs": [
        {
          "output_type": "stream",
          "name": "stdout",
          "text": [
            "등기사항전부증명서말소사항포함집합건물집합건물인천광역시미추홀구주안동재정비촉진지구내도시개발1구역포레나미추홀201동제1층제1001호고유번호12012022053795열람용열람일시2024년02월17일12시17분06초13표제부1동의건물의표시표시번호접수소재지번,건물명칭및번호건물내역등기원인및기타사항12022년10월13일인천광역시미추홀구주안동철골철근콘크리트구조재정비촉진지구내도시개발1철근콘크리트지붕구역13층포레나미추홀201동판매,근생,영화관,의료시설도로명주소1층9,325.3511㎡인천광역시미추홀구경인로2층11,334.0487㎡3723층10,114.2658㎡4층10,114.3851㎡5층9,701.8935㎡6층1,544.0889㎡7층1,921.3868㎡8층1,792.631㎡9층1,792.631㎡10층1,921.3867㎡11층1,761.7747㎡12층1,842.3375㎡13층1,841.7114㎡지1층13,020.5406㎡지2층13,366.3975㎡지3층1,551.7115㎡지4층534.844㎡지5층427.8422㎡지6층197.7652㎡지7층252.3142㎡지8층252.3142㎡표제부전유부분의건물의표시표시번호접수건물번호건물내역등기원인및기타사항12022년10월13일제1층제1001호철근콘크리트구조106.3664㎡집합건물인천광역시미추홀구주안동재정비촉진지구내도시개발1구역포레나미추홀201동제1층제1001호열람용열람일시2024년02월17일12시17분06초23갑구소유권에관한사항순위번호등기목적접수등기원인권리자및기타사항1소유권보존2022년10월13일소유자우리자산신탁주식회사1101112003236제342337호서울특별시강남구테헤란로301,13층역삼동신탁신탁원부제202241153호2소유권이전2022년10월25일2021년10월15일소유자최용주610611제354619호매매인천광역시연수구센트럴로194,202동2204호송도동,더샵센트럴파크2거래가액금2,603,426,100원1번신탁등기말소신탁재산의처분을구소유권이외의권리에관한사항순위번호등기목적접수등기원인권리자및기타사항1근저당권설정2022년10월25일2022년10월25일채권최고액금4,800,000,000원제354622호설정계약채무자최용주인천광역시연수구센트럴로194,202동2204호송도동,더샵센트럴파크2근저당권자중소기업은행1101350000903서울특별시중구을지로79을지로2가남동공단비전지점공동담보건물인천광역시미추홀구주안동재정비촉진지구내도시개발1구역포레나미추홀201동제1층제1002호건물인천광역시미추홀구주안동재정비촉진지구내도시개발1구역포레나미추홀201동제1층제1003호건물인천광역시연수구송도동234더샵센트럴파크2제202동제22층제2204호2임차권설정2023년8월7일2023년5월17일임차보증금없음제283381호설정계약차임순매출의11퍼센트부가가치세별도차임지급시기매월15일범위건물의전부존속기간2023년8월30일부터2030년8월집합건물인천광역시미추홀구주안동재정비촉진지구내도시개발1구역포레나미추홀201동제1층제1001호열람용열람일시2024년02월17일12시17분06초33순위번호등기목적접수등기원인권리자및기타사항29일까지임차권자주식회사에스씨케이컴퍼니1101111461667서울특별시중구퇴계로100,10층회현동2가이하여백관할등기소인천지방법원등기국본등기사항증명서는열람용이므로출력하신등기사항증명서는법적인효력이없습니다.실선으로그어진부분은말소사항을표시함.기록사항없는갑구,을구는기록사항없음으로표시함.증명서는컬러또는흑백으로출력가능함.\n"
          ]
        }
      ]
    },
    {
      "cell_type": "markdown",
      "source": [
        "# 등기부등본의 전세 위험도 판별 함수 생성  \n",
        "실제로 전세 위험도를 판별하기 위해서는 여러 서류를 검토해야 하지만 이번 코드에서는 등기부등본에서 사용 가능한 판별 함수만을 생성하였음  "
      ],
      "metadata": {
        "id": "zHqN6sZ4vp1Y"
      }
    },
    {
      "cell_type": "markdown",
      "source": [
        "## 등기부등본의 표제부, 갑구, 을구 구분"
      ],
      "metadata": {
        "id": "wvc5IbfJFUUi"
      }
    },
    {
      "cell_type": "code",
      "source": [
        "#서류 하단에 '갑구', '을구'가 포함된 문장이 있기 때문에 해당 부분 제거\n",
        "#아래 코드로 표제부, 갑구, 을구 부분을 나누려면 갑구, 을구가 한 번씩만 언급되어야 하기 때문\n",
        "def remove_text(input_string, target_word):\n",
        "    index = input_string.find(target_word)\n",
        "    if index != -1:\n",
        "        return input_string[:index]\n",
        "    return input_string\n",
        "\n",
        "# 예시 테스트\n",
        "text = remove_text(text, '본등기사항증명서는')\n",
        "print(\"처리된 문자열:\", text)\n"
      ],
      "metadata": {
        "colab": {
          "base_uri": "https://localhost:8080/"
        },
        "id": "w9K-qTXiKZvq",
        "outputId": "ba7e7b5e-b1fd-4d0f-c6e4-7dae59df7e3e"
      },
      "execution_count": null,
      "outputs": [
        {
          "output_type": "stream",
          "name": "stdout",
          "text": [
            "처리된 문자열: 등기사항전부증명서말소사항포함집합건물집합건물인천광역시미추홀구주안동재정비촉진지구내도시개발1구역포레나미추홀201동제1층제1001호고유번호12012022053795열람용열람일시2024년02월17일12시17분06초13표제부1동의건물의표시표시번호접수소재지번,건물명칭및번호건물내역등기원인및기타사항12022년10월13일인천광역시미추홀구주안동철골철근콘크리트구조재정비촉진지구내도시개발1철근콘크리트지붕구역13층포레나미추홀201동판매,근생,영화관,의료시설도로명주소1층9,325.3511㎡인천광역시미추홀구경인로2층11,334.0487㎡3723층10,114.2658㎡4층10,114.3851㎡5층9,701.8935㎡6층1,544.0889㎡7층1,921.3868㎡8층1,792.631㎡9층1,792.631㎡10층1,921.3867㎡11층1,761.7747㎡12층1,842.3375㎡13층1,841.7114㎡지1층13,020.5406㎡지2층13,366.3975㎡지3층1,551.7115㎡지4층534.844㎡지5층427.8422㎡지6층197.7652㎡지7층252.3142㎡지8층252.3142㎡표제부전유부분의건물의표시표시번호접수건물번호건물내역등기원인및기타사항12022년10월13일제1층제1001호철근콘크리트구조106.3664㎡집합건물인천광역시미추홀구주안동재정비촉진지구내도시개발1구역포레나미추홀201동제1층제1001호열람용열람일시2024년02월17일12시17분06초23갑구소유권에관한사항순위번호등기목적접수등기원인권리자및기타사항1소유권보존2022년10월13일소유자우리자산신탁주식회사1101112003236제342337호서울특별시강남구테헤란로301,13층역삼동신탁신탁원부제202241153호2소유권이전2022년10월25일2021년10월15일소유자최용주610611제354619호매매인천광역시연수구센트럴로194,202동2204호송도동,더샵센트럴파크2거래가액금2,603,426,100원1번신탁등기말소신탁재산의처분을구소유권이외의권리에관한사항순위번호등기목적접수등기원인권리자및기타사항1근저당권설정2022년10월25일2022년10월25일채권최고액금4,800,000,000원제354622호설정계약채무자최용주인천광역시연수구센트럴로194,202동2204호송도동,더샵센트럴파크2근저당권자중소기업은행1101350000903서울특별시중구을지로79을지로2가남동공단비전지점공동담보건물인천광역시미추홀구주안동재정비촉진지구내도시개발1구역포레나미추홀201동제1층제1002호건물인천광역시미추홀구주안동재정비촉진지구내도시개발1구역포레나미추홀201동제1층제1003호건물인천광역시연수구송도동234더샵센트럴파크2제202동제22층제2204호2임차권설정2023년8월7일2023년5월17일임차보증금없음제283381호설정계약차임순매출의11퍼센트부가가치세별도차임지급시기매월15일범위건물의전부존속기간2023년8월30일부터2030년8월집합건물인천광역시미추홀구주안동재정비촉진지구내도시개발1구역포레나미추홀201동제1층제1001호열람용열람일시2024년02월17일12시17분06초33순위번호등기목적접수등기원인권리자및기타사항29일까지임차권자주식회사에스씨케이컴퍼니1101111461667서울특별시중구퇴계로100,10층회현동2가이하여백관할등기소인천지방법원등기국\n"
          ]
        }
      ]
    },
    {
      "cell_type": "code",
      "source": [
        "def divide_text(input_string):\n",
        "    first_part = input_string.split('갑구', 1)[0]\n",
        "    second_part = '갑구' + input_string.split('갑구', 1)[-1].split('을구')[0]\n",
        "    third_part = '을구' + input_string.split('을구')[-1]\n",
        "    return [first_part, second_part, third_part]\n",
        "\n",
        "divided_text = divide_text(text)\n",
        "str_p = divided_text[0]\n",
        "str_g = divided_text[1]\n",
        "str_y = divided_text[2]\n",
        "\n",
        "print(str_y)"
      ],
      "metadata": {
        "colab": {
          "base_uri": "https://localhost:8080/"
        },
        "id": "VdTPfb6aI10z",
        "outputId": "ace72f0f-b62b-4149-90e5-c6c0419d9989"
      },
      "execution_count": null,
      "outputs": [
        {
          "output_type": "stream",
          "name": "stdout",
          "text": [
            "을구소유권이외의권리에관한사항순위번호등기목적접수등기원인권리자및기타사항1근저당권설정2022년10월25일2022년10월25일채권최고액금4,800,000,000원제354622호설정계약채무자최용주인천광역시연수구센트럴로194,202동2204호송도동,더샵센트럴파크2근저당권자중소기업은행1101350000903서울특별시중구을지로79을지로2가남동공단비전지점공동담보건물인천광역시미추홀구주안동재정비촉진지구내도시개발1구역포레나미추홀201동제1층제1002호건물인천광역시미추홀구주안동재정비촉진지구내도시개발1구역포레나미추홀201동제1층제1003호건물인천광역시연수구송도동234더샵센트럴파크2제202동제22층제2204호2임차권설정2023년8월7일2023년5월17일임차보증금없음제283381호설정계약차임순매출의11퍼센트부가가치세별도차임지급시기매월15일범위건물의전부존속기간2023년8월30일부터2030년8월집합건물인천광역시미추홀구주안동재정비촉진지구내도시개발1구역포레나미추홀201동제1층제1001호열람용열람일시2024년02월17일12시17분06초33순위번호등기목적접수등기원인권리자및기타사항29일까지임차권자주식회사에스씨케이컴퍼니1101111461667서울특별시중구퇴계로100,10층회현동2가이하여백관할등기소인천지방법원등기국\n"
          ]
        }
      ]
    },
    {
      "cell_type": "markdown",
      "source": [
        "## 표제부 판별 기준"
      ],
      "metadata": {
        "id": "xAlliOwb-yIL"
      }
    },
    {
      "cell_type": "markdown",
      "source": [
        "### 1. 입력받은 건물의 주소와 등기부등본에 적힌 주소가 같은지 확인"
      ],
      "metadata": {
        "id": "YcJfyBlwK8gn"
      }
    },
    {
      "cell_type": "code",
      "source": [
        "def check_1(string, words_to_check):\n",
        "    found_words = []\n",
        "    for word in words_to_check:\n",
        "        if word in string:\n",
        "            found_words.append(word)\n",
        "    if found_words:\n",
        "        return 'none'  # 주소가 일치하는 경우\n",
        "    else:\n",
        "        return \"주소가 일치하지 않습니다.\"  # 주소가 일치하지 않는 경우\n",
        "\n",
        "\n",
        "# 예시 테스트\n",
        "list_1 = ['인천광역시미추홀구주안동재정비촉진지구내도시개발1구역포레나미추홀201동제1층제1001호']\n",
        "check_1(str_p, list_1)\n",
        "\n"
      ],
      "metadata": {
        "colab": {
          "base_uri": "https://localhost:8080/",
          "height": 35
        },
        "id": "SBUw-apN-xS7",
        "outputId": "6300b3e7-01ae-4a9e-8fbf-87c33faeb9af"
      },
      "execution_count": null,
      "outputs": [
        {
          "output_type": "execute_result",
          "data": {
            "text/plain": [
              "'none'"
            ],
            "application/vnd.google.colaboratory.intrinsic+json": {
              "type": "string"
            }
          },
          "metadata": {},
          "execution_count": 10
        }
      ]
    },
    {
      "cell_type": "markdown",
      "source": [
        "### 2. 건축물의 용도를 확인"
      ],
      "metadata": {
        "id": "vx2CiHaaLGHq"
      }
    },
    {
      "cell_type": "code",
      "source": [
        "#아파트, 주택(단독주택, 아파트 주택, 다중주택, 단층 주택 등), 오피스텔\n",
        "#용도는 표제부에 적혀있으므로 str_p에서 탐색\n",
        "def check_2(input_string):\n",
        "    keywords = ['주택', '아파트', '오피스텔']\n",
        "    for keyword in keywords:\n",
        "        if keyword in input_string:\n",
        "            return 'none'\n",
        "    return \"주거 용도가 아닙니다.\"\n",
        "\n",
        "print(check_2(str_p))\n"
      ],
      "metadata": {
        "colab": {
          "base_uri": "https://localhost:8080/"
        },
        "id": "NiRPD2SfGcro",
        "outputId": "cfe4afad-f7f1-49c7-ba67-f849ef21a686"
      },
      "execution_count": null,
      "outputs": [
        {
          "output_type": "stream",
          "name": "stdout",
          "text": [
            "주거 용도가 아닙니다.\n"
          ]
        }
      ]
    },
    {
      "cell_type": "markdown",
      "source": [
        "### 3. 대지권 여부 파악"
      ],
      "metadata": {
        "id": "xk3y1yIEQwbx"
      }
    },
    {
      "cell_type": "code",
      "source": [
        "def check_3(text):\n",
        "    if '대지권의표시' in text:\n",
        "        return 'none'\n",
        "    else:\n",
        "        return \"대지권이 표시되어 있지 않습니다.\"\n",
        "\n",
        "#예시에는 포함되어 있지 않음\n",
        "check_3(str_p)\n"
      ],
      "metadata": {
        "colab": {
          "base_uri": "https://localhost:8080/",
          "height": 35
        },
        "id": "MNUJWz5GGckB",
        "outputId": "4afea48f-89e8-434f-875a-206071bdcaf3"
      },
      "execution_count": null,
      "outputs": [
        {
          "output_type": "execute_result",
          "data": {
            "text/plain": [
              "'대지권이 표시되어 있지 않습니다.'"
            ],
            "application/vnd.google.colaboratory.intrinsic+json": {
              "type": "string"
            }
          },
          "metadata": {},
          "execution_count": 12
        }
      ]
    },
    {
      "cell_type": "markdown",
      "source": [
        "### 4. '별도등기' 표시 여부  "
      ],
      "metadata": {
        "id": "FX7ai_kAT3yQ"
      }
    },
    {
      "cell_type": "code",
      "source": [
        "#'별도등기있음'가 포함되어 있으면 \"별도등기가 있습니다.\" 출력\n",
        "def check_4(text):\n",
        "    if '별도등기있음' in text:\n",
        "        return '별도등기가 있습니다.'\n",
        "    else:\n",
        "        return 'none'\n",
        "\n",
        "\n",
        "stt = '별도등기있음'\n",
        "check_4(str_y)\n"
      ],
      "metadata": {
        "id": "VJ51tXaFGcfR",
        "colab": {
          "base_uri": "https://localhost:8080/",
          "height": 35
        },
        "outputId": "b28b82ef-b524-4822-ef95-e371e1a8ade4"
      },
      "execution_count": null,
      "outputs": [
        {
          "output_type": "execute_result",
          "data": {
            "text/plain": [
              "'none'"
            ],
            "application/vnd.google.colaboratory.intrinsic+json": {
              "type": "string"
            }
          },
          "metadata": {},
          "execution_count": 13
        }
      ]
    },
    {
      "cell_type": "markdown",
      "source": [
        "## '갑구' 부분"
      ],
      "metadata": {
        "id": "rvVGe58hVGiY"
      }
    },
    {
      "cell_type": "markdown",
      "source": [
        "### 5. 임대인 인적사항 확인"
      ],
      "metadata": {
        "id": "SfFS5_36y17F"
      }
    },
    {
      "cell_type": "code",
      "source": [
        "# 사용자가 입력한 임대인의 인적사항과 등기부등본에 기재된 임대인의 인적사항이 일치해야 함\n",
        "\n",
        "def check_5(string, words_to_check):\n",
        "\n",
        "    found_words5 = []\n",
        "    for word in words_to_check:\n",
        "        if word in string:\n",
        "            found_words5.append(word)\n",
        "    if found_words5:\n",
        "        return \"none\"\n",
        "    else:\n",
        "        print(\"집 소유자의 인적사항과 일치하지 않습니다.\")\n",
        "\n",
        "# 예시 테스트\n",
        "list_5 = ['최용주610611'] #집주인 이름과 주민번호 앞 6자리\n",
        "check_5(str_g, list_5)"
      ],
      "metadata": {
        "id": "3qZPMOoWVFQC",
        "colab": {
          "base_uri": "https://localhost:8080/",
          "height": 35
        },
        "outputId": "54c5b9cc-9547-4532-9c11-a14e285f3de1"
      },
      "execution_count": null,
      "outputs": [
        {
          "output_type": "execute_result",
          "data": {
            "text/plain": [
              "'none'"
            ],
            "application/vnd.google.colaboratory.intrinsic+json": {
              "type": "string"
            }
          },
          "metadata": {},
          "execution_count": 14
        }
      ]
    },
    {
      "cell_type": "markdown",
      "source": [
        "### 6. 가처분, 가등기, 신탁, 압류, 가압류, 경매개시결정, 임차권등기명령 포함 여부 확인"
      ],
      "metadata": {
        "id": "Szs5pdmAy5U9"
      }
    },
    {
      "cell_type": "code",
      "source": [
        "def check_6(input_str, words):\n",
        "    word_counts = {word: input_str.count(word) for word in words}\n",
        "\n",
        "    if all(count % 2 == 0 for count in word_counts.values()):\n",
        "        return \"none\"\n",
        "\n",
        "    odd_count_words = [word for word, count in word_counts.items() if count % 2 != 0]\n",
        "\n",
        "    for word in words:\n",
        "        input_str = input_str.replace(word, '')\n",
        "\n",
        "    count_압류 = input_str.count('압류')\n",
        "    if count_압류 % 2 == 0:\n",
        "        if not odd_count_words:\n",
        "            return \"none\"\n",
        "        else:\n",
        "            return odd_count_words\n",
        "    else:\n",
        "        if not odd_count_words:\n",
        "            return ['압류']\n",
        "        else:\n",
        "            return odd_count_words + ['압류']\n",
        "\n",
        "\n"
      ],
      "metadata": {
        "id": "N3hUKvUMyIlR"
      },
      "execution_count": null,
      "outputs": []
    },
    {
      "cell_type": "markdown",
      "source": [
        "### 을구"
      ],
      "metadata": {
        "id": "EpP94m3BzADl"
      }
    },
    {
      "cell_type": "markdown",
      "source": [
        "### 7. 채권최고액 추출"
      ],
      "metadata": {
        "id": "524_N7-izS_u"
      }
    },
    {
      "cell_type": "code",
      "source": [
        "def check_7(input_string):\n",
        "    start_index = input_string.find('금') + len('금')\n",
        "    end_index = input_string.find('0원')\n",
        "\n",
        "    if start_index != -1 and end_index != -1 and start_index < end_index - 1:\n",
        "        substring = input_string[start_index:end_index]\n",
        "        result = ''.join([char for char in substring if char.isdigit()])\n",
        "        if result:\n",
        "            return int(result) * 10\n",
        "\n",
        "    return \"none\"\n",
        "\n"
      ],
      "metadata": {
        "colab": {
          "base_uri": "https://localhost:8080/"
        },
        "id": "n4ORwsljB49j",
        "outputId": "f490ce4d-6c52-4e06-ffb5-c561c0e1a0d9"
      },
      "execution_count": null,
      "outputs": [
        {
          "output_type": "stream",
          "name": "stdout",
          "text": [
            "none\n"
          ]
        }
      ]
    },
    {
      "cell_type": "markdown",
      "source": [
        "### 8. 입력된 매매가, 보증금을 바탕으로 전세 사기 위험도 판별"
      ],
      "metadata": {
        "id": "JrWw5pTkzbma"
      }
    },
    {
      "cell_type": "code",
      "source": [
        "def check_8(deposit, price):\n",
        "    value = check_7(str_y)\n",
        "\n",
        "    if value == \"none\":\n",
        "        return \"none\"\n",
        "    else:\n",
        "        total = value + deposit\n",
        "        percentage = (total / price) * 100\n",
        "        if percentage <= 70:\n",
        "            return \"전세 사기 위험이 있습니다.\"\n",
        "        else:\n",
        "            return \"none\"\n",
        "\n",
        "\n",
        "\n",
        "# 예시 값\n",
        "deposit = 1200000000\n",
        "price = 77700000000\n",
        "\n",
        "print(check_8(deposit, price))\n",
        "\n",
        "\n"
      ],
      "metadata": {
        "colab": {
          "base_uri": "https://localhost:8080/"
        },
        "id": "IoirykiQyNBw",
        "outputId": "bae414e4-1384-491f-fd2d-a81e53a8ebd7"
      },
      "execution_count": null,
      "outputs": [
        {
          "output_type": "stream",
          "name": "stdout",
          "text": [
            "전세사기 위험이 있습니다.\n"
          ]
        }
      ]
    },
    {
      "cell_type": "code",
      "source": [
        "def check_total(data):\n",
        "    divide_text(data)\n",
        "    results_total = {}\n",
        "\n",
        "    list_1 = ['인천광역시미추홀구주안동재정비촉진지구내도시개발1구역포레나미추홀201동제1층제1001호']\n",
        "    results_total['check_1'] = check_1(str_p, list_1) #집주소를 입력받아 매개변수로 지정\n",
        "    results_total['check_2'] = check_2(str_p)\n",
        "    results_total['check_3'] = check_3(str_p)\n",
        "    results_total['check_4'] = check_4(str_p)\n",
        "    results_total['check_5'] = check_5(str_g, list_5)  #집주인 이름과 주민번호 앞 6자리 입력받아서 매개변수로 지정\n",
        "    list_6 = ['가처분', '가등기', '신탁', '가압류', '경매개시결정', '임차권등기명령']\n",
        "    results_total['check_6'] = check_6(str_g, list_6)\n",
        "    results_total['check_7'] = check_7(str_y)\n",
        "    results_total['check_8'] = check_8(deposit, price)  #매매금과 보증금을 입력받아 매개변수로 지정\n",
        "\n",
        "    return results_total\n"
      ],
      "metadata": {
        "id": "tpKLnwd85oAU"
      },
      "execution_count": null,
      "outputs": []
    },
    {
      "cell_type": "code",
      "source": [
        "check_total(text)"
      ],
      "metadata": {
        "colab": {
          "base_uri": "https://localhost:8080/"
        },
        "id": "MB6wiQm01Do4",
        "outputId": "af13fada-e1a2-4960-8027-95de77237766"
      },
      "execution_count": null,
      "outputs": [
        {
          "output_type": "execute_result",
          "data": {
            "text/plain": [
              "{'check_1': 'none',\n",
              " 'check_2': '주거 용도가 아닙니다.',\n",
              " 'check_3': '대지권이 표시되어 있지 않습니다.',\n",
              " 'check_4': 'none',\n",
              " 'check_5': 'none',\n",
              " 'check_6': ['신탁'],\n",
              " 'check_7': 4800000000,\n",
              " 'check_8': '전세사기 위험이 있습니다.'}"
            ]
          },
          "metadata": {},
          "execution_count": 20
        }
      ]
    },
    {
      "cell_type": "markdown",
      "source": [
        "## 모든 결과를 한번에 출력하는 report 함수 생성"
      ],
      "metadata": {
        "id": "5iB9pHugzm-p"
      }
    },
    {
      "cell_type": "code",
      "source": [
        "def report(data):\n",
        "    results_total = check_total(data)\n",
        "\n",
        "    all_none = all(value == 'none' for key, value in results_total.items() if key != 'check_7')  # check_7은 별도로 처리하지 않는다고 가정\n",
        "\n",
        "    report_messages = []\n",
        "\n",
        "    if all_none:\n",
        "        report_messages.append(\"아래의 모든 항목으로부터 전세사기 위험이 감지되지 않았습니다. \\n\")\n",
        "    else:\n",
        "        report_messages.append(\"검토 결과 전세사기 위험이 감지되었습니다. 아래의 세부 항목을 확인해주세요. \\n\")\n",
        "\n",
        "\n",
        "    if results_total['check_1'] == 'none':\n",
        "        report_messages.append(\"1. 건물의 주소와 등기부등본에 적힌 주소가 같은지 확인하는 항목입니다. \\n   건물의 실제 주소와 등기부등본상에 기재된 주소가 다르다면 문제가 됩니다. \\n   입력하신 건물의 주소와 동일한 주소의 건물의 등기부등본임을 확인했습니다.\")\n",
        "    else:\n",
        "        report_messages.append(\"1. 건물의 주소와 등기부등본에 적힌 주소가 같은지 확인하는 항목입니다. \\n   건물의 실제 주소와 등기부등본에 기재된 주소가 다르다면 문제가 됩니다.\\n   입력하신 건물의 주소와 등기부등본의 주소가 다릅니다. 해당 건물의 등기부등본이 맞는지 다시 확인해주세요.\")\n",
        "\n",
        "    if results_total['check_2'] == 'none':\n",
        "        report_messages.append(\"2. 건축물의 용도 확인을 위한 항목입니다. \\n   주거용 건물이 아닌 경우 전세자금 대출이 어려울 수 있습니다.\\n   '주택', '아파트', '오피스텔'에 해당되는 주거용 건물입니다.\")\n",
        "    else:\n",
        "        report_messages.append(\"2. 건축물의 용도 확인을 위한 항목입니다. \\n   주거용 건물이 아닌 경우 전세자금 대출이 어려울 수 있습니다.\\n   건축물의 용도가 '주택', '아파트', '오피스텔'  주거용이 아닙니다.\\n   주거용 건물이 아닌경우 전세자금 대출이 어려울 수 있으니 확인이 필요합니다.\")\n",
        "\n",
        "    if results_total['check_3'] == 'none':\n",
        "        report_messages.append(\"3. 대지권이 등기되어 있습니다. \\n   이는 해당 건물에 대한 토지의 소유권이 확실히 보장되어 있다는 것을 의미합니다. \\n   건물 소유자가 해당 토지를 자유롭게 사용할 수 있는 권리를 가지고 있으므로 안심하셔도 됩니다.\")\n",
        "    else:\n",
        "        report_messages.append(\"3.  '대지권' 단어가 확인되지 않습니다. 집합건물의 대지권은 원칙적으로 등기되어야 하지만 해당 서류는 '대지권 미등기' 또는 '대지권 없음'의 상태를 나타냅니다.\\n   주택의 가격이 하락할 수 있고 토지 소유자로부터 퇴거 청구를 받을 위험이 있습니다.\")\n",
        "\n",
        "    if results_total['check_4'] == 'none':\n",
        "        report_messages.append(\"4. '별도등기' 표기여부를 확인하는 항목입니다.\\n   '별도등기'라고 표기된 경우 근저당권 등 따로 권리가 설정돼 있는 경우이며, 이때 토지 등기부등본의 추가적인 확인을 통해 얼마의 근저당이 잡혀있는지 체크해야합니다. \\n   '별도등기'라고 표기되어있지 않으므로 이상이 없습니다.\")\n",
        "    else:\n",
        "        report_messages.append(\"4. '별도등기' 표기여부를 확인하는 항목입니다.\\n   '별도등기'라고 표기된 경우 근저당권 등 따로 권리가 설정돼 있는 경우이며, 이때 토지 등기부등본의 추가적인 확인을 통해 얼마의 근저당이 잡혀있는지 체크해야합니다. 토지 근저당권의 배당액에 따라 미배당 보증금이 발생하여 추가로 지불해야 할 금액이 많아질 수 있습니다.\\n   '별도등기'라고 표기되어있기에 토지 등기부등본의 추가 확인을 통해 얼마의 근저당이 확있는지 체크해야합니다.\")\n",
        "\n",
        "    if results_total['check_5'] == 'none':\n",
        "        report_messages.append(\"5. 집 소유자의 인적사항과 임대인의 인적사항이 같은지 확인하는 항목입니다.\\n   등기부등본의 임대인의 인적사항과 입력하신 소유자의 인적사항이 같습니다.\")\n",
        "    else:\n",
        "        report_messages.append(\"5. 집 소유자의 인적사항과 임대인의 인적사항이 같은지 확인하는 항목입니다.\\n   등기부등본의 임대인의 인적사항과 입력하신 소유자의 인적사항이 다릅니다. 추가적인 확인이 필요합니다.\")\n",
        "\n",
        "    if results_total['check_6'] == 'none':\n",
        "        report_messages.append(\"6. 집 소유권을 제한하는 조건이 존재하는지 확인하는 항목입니다.\\n   압류, 가압류, 강제 경매재개시결정, 신탁 등과 같이 소유권을 제한하고 있는 조건 확인 필요합니다. 이 단어들이 등기부등본에 있고, 그 금액과 보증금의 합계가 매매가격의 60~70%를 넘으면 경매를 진행한 후 돌려받을 수 있는 돈이 없을 가능성이 있으므로 조심해야합니다.\\n   소유권을 제한하는 조건이 없습니다.\")\n",
        "    else:\n",
        "        problematic_items = \", \".join(results_total['check_6'])\n",
        "        report_messages.append(f\"6. 집 소유권을 제한하는 조건이 존재하는지 확인하는 항목입니다.\\n   압류, 가압류, 강제 경매재개시결정, 신탁 등과 같이 소유권을 제한하고 있는 조건 확인 필요합니다. 이 단어들이 등기부등본에 있고, 그 금액과 보증금의 합계가 매매가격의 60~70%를 넘으면 경매를 진행한 후 돌려받을 수 있는 돈이 없을 가능성이 있으므로 조심해야합니다.\\n   소유권을 제한하는 조건인 {problematic_items}가 기재되어 있습니다. 추가적인 확인이 필요합니다.\")\n",
        "\n",
        "    if results_total['check_8'] == 'none':\n",
        "        report_messages.append(\"7.'신탁등기' 표기여부를 확인하는 항목입니다. \\n   집주인이 주택을 지을 때 신탁회사에서 대출을 받았다면 실질적인 집 주인은 신탁회사입니다.등기부등본 갑구에 '신탁등기'라는 단어가 나오면 주의해야 합니다. \\n   집주인이 신탁회사에서 대출을 받지 않아 안전합니다.\")\n",
        "    else:\n",
        "        report_messages.append(\"7.'신탁등기' 표기여부를 확인하는 항목입니다. \\n   집주인이 주택을 지을 때 신탁회사에서 대출을 받았다면 실질적인 집 주인은 신탁회사입니다. 등기부등본 갑구에 '신탁등기'라는 단어가 나오면 주의해야 합니다. \\n   집주인이 신탁회사에서 대출을 받았으므로 주의해야합니다. 신탁원부를 발급받은 후 전세계약 시 신탁회사로부터 동의를 받아야 임대차보호법 적용대상이 됩니다.\")\n",
        "\n",
        "    for message in report_messages:\n",
        "        print(message)\n"
      ],
      "metadata": {
        "id": "eup1o4IEAfIE"
      },
      "execution_count": null,
      "outputs": []
    },
    {
      "cell_type": "code",
      "source": [
        "report(text)"
      ],
      "metadata": {
        "colab": {
          "base_uri": "https://localhost:8080/"
        },
        "id": "HFP82vijAihr",
        "outputId": "27363c9b-f902-4ae0-91dd-2bf648f49580"
      },
      "execution_count": null,
      "outputs": [
        {
          "output_type": "stream",
          "name": "stdout",
          "text": [
            "검토 결과 전세사기 위험이 감지되었습니다. 아래의 세부 항목을 확인해주세요. \n",
            "\n",
            "1. 건물의 주소와 등기부등본에 적힌 주소가 같은지 확인하는 항목입니다. \n",
            "   건물의 실제 주소와 등기부등본상에 기재된 주소가 다르다면 문제가 됩니다. \n",
            "   입력하신 건물의 주소와 동일한 주소의 건물의 등기부등본임을 확인했습니다.\n",
            "2. 건축물의 용도 확인을 위한 항목입니다. \n",
            "   주거용 건물이 아닌 경우 전세자금 대출이 어려울 수 있습니다.\n",
            "   건축물의 용도가 '주택', '아파트', '오피스텔'  주거용이 아닙니다.\n",
            "   주거용 건물이 아닌경우 전세자금 대출이 어려울 수 있으니 확인이 필요합니다.\n",
            "3. 집합건물의 대지권은 원칙적으로 등기되어야 하지만 해당 서류는 '대지권 미등기' 또는 '대지권 없음'의 상태를 나타냅니다.\n",
            "   주택의 가격이 하락할 수 있고 토지 소유자로부터 퇴거 청구를 받을 위험이 있습니다.\n",
            "4. '별도등기' 표기여부를 확인하는 항목입니다.\n",
            "   '별도등기'라고 표기된 경우 근저당권 등 따로 권리가 설정돼 있는 경우이며, 이때 토지 등기부등본의 추가적인 확인을 통해 얼마의 근저당이 잡혀있는지 체크해야합니다. \n",
            "   '별도등기'라고 표기되어있지 않으므로 이상이 없습니다.\n",
            "5. 집 소유자의 인적사항과 임대인의 인적사항이 같은지 확인하는 항목입니다.\n",
            "   등기부등본의 임대인의 인적사항과 입력하신 소유자의 인적사항이 같습니다.\n",
            "6. 집 소유권을 제한하는 조건이 존재하는지 확인하는 항목입니다.\n",
            "   압류, 가압류, 강제 경매재개시결정, 신탁 등과 같이 소유권을 제한하고 있는 조건 확인 필요합니다. 이 단어들이 등기부등본에 있고, 그 금액과 보증금의 합계가 매매가격의 60~70%를 넘으면 경매를 진행한 후 돌려받을 수 있는 돈이 없을 가능성이 있으므로 조심해야합니다.\n",
            "   소유권을 제한하는 조건인 신탁가 기재되어 있습니다. 추가적인 확인이 필요합니다.\n",
            "7.'신탁등기' 표기여부를 확인하는 항목입니다. \n",
            "   집주인이 주택을 지을 때 신탁회사에서 대출을 받았다면 실질적인 집 주인은 신탁회사입니다. 등기부등본 갑구에 '신탁등기'라는 단어가 나오면 주의해야 합니다. \n",
            "   집주인이 신탁회사에서 대출을 받았으므로 주의해야합니다. 신탁원부를 발급받은 후 전세계약 시 신탁회사로부터 동의를 받아야 임대차보호법 적용대상이 됩니다.\n"
          ]
        }
      ]
    },
    {
      "cell_type": "code",
      "source": [],
      "metadata": {
        "id": "RANh41IZG9AM"
      },
      "execution_count": null,
      "outputs": []
    }
  ]
}